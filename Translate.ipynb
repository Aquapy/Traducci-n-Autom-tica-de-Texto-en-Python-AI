{
 "cells": [
  {
   "cell_type": "markdown",
   "id": "d721612d-0fd8-4df4-a629-fd7ab64be79b",
   "metadata": {},
   "source": [
    "# Traducir modelo con Hugginface y python"
   ]
  },
  {
   "cell_type": "markdown",
   "id": "947fc4b4-f98a-4a79-9e72-ccc084dfa581",
   "metadata": {},
   "source": [
    "## Descargar modelo"
   ]
  },
  {
   "cell_type": "code",
   "execution_count": 2,
   "id": "853c7e02-0c89-4c93-997f-b421e6b39add",
   "metadata": {},
   "outputs": [],
   "source": [
    "# Use a pipeline as a high-level helper\n",
    "from transformers import pipeline\n",
    "\n",
    "pipe = pipeline(\"translation\", model=\"Helsinki-NLP/opus-mt-en-es\")"
   ]
  },
  {
   "cell_type": "markdown",
   "id": "5b0b1321-20c7-4b44-925e-8ca306bf6341",
   "metadata": {},
   "source": [
    "## Probar texto corto"
   ]
  },
  {
   "cell_type": "code",
   "execution_count": 4,
   "id": "0bfd8db6-8aef-43a3-ad94-f8c4dff35a36",
   "metadata": {},
   "outputs": [],
   "source": [
    "texto_corto = \"Artificial intelligence (AI) is a field of computer science that focuses on creating systems and machines capable of performing tasks that typically require human intelligence\""
   ]
  },
  {
   "cell_type": "code",
   "execution_count": 5,
   "id": "3472bc4d-aafb-42f7-9b22-ae32209997de",
   "metadata": {},
   "outputs": [
    {
     "data": {
      "text/plain": [
       "'Artificial intelligence (AI) is a field of computer science that focuses on creating systems and machines capable of performing tasks that typically require human intelligence'"
      ]
     },
     "execution_count": 5,
     "metadata": {},
     "output_type": "execute_result"
    }
   ],
   "source": [
    "texto_corto"
   ]
  },
  {
   "cell_type": "code",
   "execution_count": 6,
   "id": "6d2b503e-1a38-4284-b22e-910abf54f459",
   "metadata": {},
   "outputs": [
    {
     "data": {
      "text/plain": [
       "[{'translation_text': 'La inteligencia artificial (AI) es un campo de la informática que se centra en la creación de sistemas y máquinas capaces de realizar tareas que normalmente requieren inteligencia humana'}]"
      ]
     },
     "execution_count": 6,
     "metadata": {},
     "output_type": "execute_result"
    }
   ],
   "source": [
    "pipe(texto_corto)"
   ]
  },
  {
   "cell_type": "markdown",
   "id": "e0413151-1d14-4ad8-aa24-dd7ce872402a",
   "metadata": {},
   "source": [
    "## Probar texto largo"
   ]
  },
  {
   "cell_type": "code",
   "execution_count": 7,
   "id": "3f64647a-2032-4f58-87f1-5f234d9ffc60",
   "metadata": {},
   "outputs": [],
   "source": [
    "texto_largo = \"\"\"\n",
    "Artificial intelligence (AI) is a field of computer science that focuses on creating systems and machines capable of performing tasks that typically require human intelligence. These tasks include understanding natural language, recognizing patterns, solving problems, and making decisions. AI has made significant advancements in recent years, and its applications are diverse, ranging from self-driving cars and virtual assistants to medical diagnosis and language translation.\n",
    "\n",
    "Machine learning is a subset of AI that involves training computer algorithms to learn from data and make predictions or decisions. Deep learning, a type of machine learning, has gained popularity for its ability to process large datasets and solve complex problems. It has been used in image and speech recognition, recommendation systems, and more.\n",
    "\n",
    "The development of AI and machine learning models relies on extensive training with vast datasets. These models are fine-tuned to perform specific tasks, and they continuously improve with more data and better algorithms. Open-source platforms like Hugging Face's Transformers make it easier to access and use pre-trained AI models for various natural language processing tasks, such as translation, summarization, and text generation.\n",
    "\n",
    "As AI technology continues to evolve, it raises ethical questions and concerns about privacy, bias, and job displacement. The responsible development and deployment of AI systems are essential to ensure that they benefit society while minimizing potential risks.\n",
    "\n",
    "In conclusion, artificial intelligence and machine learning are rapidly changing the way we interact with technology and the world around us. Their applications are vast, and they hold the potential to address complex challenges and improve our daily lives.\n",
    "\"\"\""
   ]
  },
  {
   "cell_type": "code",
   "execution_count": 9,
   "id": "9a7ee932-616a-47f8-9e9a-9e6bce3b4f02",
   "metadata": {},
   "outputs": [],
   "source": [
    "texto_translate = pipe(texto_largo)"
   ]
  },
  {
   "cell_type": "code",
   "execution_count": 12,
   "id": "ca9ee6e1-9d96-4464-99c9-fc285546693f",
   "metadata": {},
   "outputs": [
    {
     "data": {
      "text/plain": [
       "\"La inteligencia artificial (AI) es un campo de la informática que se centra en la creación de sistemas y máquinas capaces de realizar tareas que normalmente requieren inteligencia humana. Estas tareas incluyen la comprensión del lenguaje natural, el reconocimiento de patrones, la resolución de problemas y la toma de decisiones. La inteligencia artificial ha hecho avances significativos en los últimos años, y sus aplicaciones son diversas, desde coches autodirigidos y asistentes virtuales hasta diagnóstico médico y traducción de idiomas. El aprendizaje automático es un subconjunto de IA que incluye la formación de algoritmos informáticos para aprender de datos y hacer predicciones o decisiones. El aprendizaje profundo, un tipo de aprendizaje automático, ha ganado popularidad por su capacidad para procesar grandes conjuntos de datos y resolver problemas complejos. Se ha utilizado en el reconocimiento de imágenes y discursos, sistemas de recomendación y más. El desarrollo de IA y modelos de aprendizaje automático se basa en una amplia formación con vastos conjuntos de datos. Estos modelos se han perfeccionado para realizar tareas específicas y mejoran continuamente con más datos y algoritmos. Plataformas de código abierto como Hogging Face's Transformers mejoran más fácilmente el acceso a las aplicaciones de la inteligencia artificial y nos permiten mejorar su potencial de trabajo.\""
      ]
     },
     "execution_count": 12,
     "metadata": {},
     "output_type": "execute_result"
    }
   ],
   "source": [
    "texto_translate[0]['translation_text']"
   ]
  },
  {
   "cell_type": "markdown",
   "id": "42c50362-e606-48cd-92a5-46d1fda79608",
   "metadata": {},
   "source": [
    "## Desde un fichero excel"
   ]
  },
  {
   "cell_type": "code",
   "execution_count": 13,
   "id": "2ee57c02-aed3-49e9-98a7-ccd513df9897",
   "metadata": {},
   "outputs": [],
   "source": [
    "import pandas as pd"
   ]
  },
  {
   "cell_type": "code",
   "execution_count": 16,
   "id": "d66d99db-f115-4f91-b94c-ec01c95e61b5",
   "metadata": {},
   "outputs": [],
   "source": [
    "df = pd.read_excel('Textos.xlsx', index_col = 0)"
   ]
  },
  {
   "cell_type": "code",
   "execution_count": 18,
   "id": "199e54ee-df9b-4f98-a248-383bd027a5ab",
   "metadata": {},
   "outputs": [
    {
     "data": {
      "text/html": [
       "<div>\n",
       "<style scoped>\n",
       "    .dataframe tbody tr th:only-of-type {\n",
       "        vertical-align: middle;\n",
       "    }\n",
       "\n",
       "    .dataframe tbody tr th {\n",
       "        vertical-align: top;\n",
       "    }\n",
       "\n",
       "    .dataframe thead th {\n",
       "        text-align: right;\n",
       "    }\n",
       "</style>\n",
       "<table border=\"1\" class=\"dataframe\">\n",
       "  <thead>\n",
       "    <tr style=\"text-align: right;\">\n",
       "      <th></th>\n",
       "      <th>Texto en Inglés</th>\n",
       "    </tr>\n",
       "  </thead>\n",
       "  <tbody>\n",
       "    <tr>\n",
       "      <th>0</th>\n",
       "      <td>This is an example text.</td>\n",
       "    </tr>\n",
       "    <tr>\n",
       "      <th>1</th>\n",
       "      <td>Machine learning is fascinating.</td>\n",
       "    </tr>\n",
       "    <tr>\n",
       "      <th>2</th>\n",
       "      <td>Artificial intelligence is changing the world.</td>\n",
       "    </tr>\n",
       "    <tr>\n",
       "      <th>3</th>\n",
       "      <td>The quick brown fox jumps over the lazy dog.</td>\n",
       "    </tr>\n",
       "    <tr>\n",
       "      <th>4</th>\n",
       "      <td>Science and technology go hand in hand.</td>\n",
       "    </tr>\n",
       "  </tbody>\n",
       "</table>\n",
       "</div>"
      ],
      "text/plain": [
       "                                  Texto en Inglés\n",
       "0                        This is an example text.\n",
       "1                Machine learning is fascinating.\n",
       "2  Artificial intelligence is changing the world.\n",
       "3    The quick brown fox jumps over the lazy dog.\n",
       "4         Science and technology go hand in hand."
      ]
     },
     "execution_count": 18,
     "metadata": {},
     "output_type": "execute_result"
    }
   ],
   "source": [
    "df.head()"
   ]
  },
  {
   "cell_type": "code",
   "execution_count": 19,
   "id": "7940067a-5a17-4e2e-8f98-1b39f278c73d",
   "metadata": {},
   "outputs": [
    {
     "data": {
      "text/html": [
       "<div>\n",
       "<style scoped>\n",
       "    .dataframe tbody tr th:only-of-type {\n",
       "        vertical-align: middle;\n",
       "    }\n",
       "\n",
       "    .dataframe tbody tr th {\n",
       "        vertical-align: top;\n",
       "    }\n",
       "\n",
       "    .dataframe thead th {\n",
       "        text-align: right;\n",
       "    }\n",
       "</style>\n",
       "<table border=\"1\" class=\"dataframe\">\n",
       "  <thead>\n",
       "    <tr style=\"text-align: right;\">\n",
       "      <th></th>\n",
       "      <th>Texto en Inglés</th>\n",
       "      <th>Esp</th>\n",
       "    </tr>\n",
       "  </thead>\n",
       "  <tbody>\n",
       "    <tr>\n",
       "      <th>0</th>\n",
       "      <td>This is an example text.</td>\n",
       "      <td>Este es un texto de ejemplo.</td>\n",
       "    </tr>\n",
       "    <tr>\n",
       "      <th>1</th>\n",
       "      <td>Machine learning is fascinating.</td>\n",
       "      <td>El aprendizaje automático es fascinante.</td>\n",
       "    </tr>\n",
       "    <tr>\n",
       "      <th>2</th>\n",
       "      <td>Artificial intelligence is changing the world.</td>\n",
       "      <td>La inteligencia artificial está cambiando el m...</td>\n",
       "    </tr>\n",
       "    <tr>\n",
       "      <th>3</th>\n",
       "      <td>The quick brown fox jumps over the lazy dog.</td>\n",
       "      <td>El zorro marrón salta sobre el perro perezoso.</td>\n",
       "    </tr>\n",
       "    <tr>\n",
       "      <th>4</th>\n",
       "      <td>Science and technology go hand in hand.</td>\n",
       "      <td>La ciencia y la tecnología van de la mano.</td>\n",
       "    </tr>\n",
       "    <tr>\n",
       "      <th>5</th>\n",
       "      <td>The Earth is a beautiful planet.</td>\n",
       "      <td>La Tierra es un planeta hermoso.</td>\n",
       "    </tr>\n",
       "    <tr>\n",
       "      <th>6</th>\n",
       "      <td>Learning new things is always fun.</td>\n",
       "      <td>Aprender cosas nuevas siempre es divertido.</td>\n",
       "    </tr>\n",
       "    <tr>\n",
       "      <th>7</th>\n",
       "      <td>Innovation drives progress.</td>\n",
       "      <td>La innovación impulsa el progreso.</td>\n",
       "    </tr>\n",
       "    <tr>\n",
       "      <th>8</th>\n",
       "      <td>Life is full of surprises.</td>\n",
       "      <td>La vida está llena de sorpresas.</td>\n",
       "    </tr>\n",
       "    <tr>\n",
       "      <th>9</th>\n",
       "      <td>The sky is the limit.</td>\n",
       "      <td>El cielo es el límite.</td>\n",
       "    </tr>\n",
       "    <tr>\n",
       "      <th>10</th>\n",
       "      <td>Coding is a valuable skill.</td>\n",
       "      <td>La codificación es una habilidad valiosa.</td>\n",
       "    </tr>\n",
       "    <tr>\n",
       "      <th>11</th>\n",
       "      <td>Knowledge is power.</td>\n",
       "      <td>El conocimiento es poder.</td>\n",
       "    </tr>\n",
       "    <tr>\n",
       "      <th>12</th>\n",
       "      <td>Dream big and work hard.</td>\n",
       "      <td>Sueña a lo grande y trabaja duro.</td>\n",
       "    </tr>\n",
       "    <tr>\n",
       "      <th>13</th>\n",
       "      <td>The future is bright.</td>\n",
       "      <td>El futuro es brillante.</td>\n",
       "    </tr>\n",
       "    <tr>\n",
       "      <th>14</th>\n",
       "      <td>Nature is full of wonders.</td>\n",
       "      <td>La naturaleza está llena de maravillas.</td>\n",
       "    </tr>\n",
       "    <tr>\n",
       "      <th>15</th>\n",
       "      <td>Books are a source of wisdom.</td>\n",
       "      <td>Los libros son una fuente de sabiduría.</td>\n",
       "    </tr>\n",
       "    <tr>\n",
       "      <th>16</th>\n",
       "      <td>Music can touch the soul.</td>\n",
       "      <td>La música puede tocar el alma.</td>\n",
       "    </tr>\n",
       "    <tr>\n",
       "      <th>17</th>\n",
       "      <td>The universe is vast and mysterious.</td>\n",
       "      <td>El universo es vasto y misterioso.</td>\n",
       "    </tr>\n",
       "    <tr>\n",
       "      <th>18</th>\n",
       "      <td>Never stop learning.</td>\n",
       "      <td>Nunca dejes de aprender.</td>\n",
       "    </tr>\n",
       "    <tr>\n",
       "      <th>19</th>\n",
       "      <td>Adventure awaits around the corner.</td>\n",
       "      <td>Aventura espera a la vuelta de la esquina.</td>\n",
       "    </tr>\n",
       "    <tr>\n",
       "      <th>20</th>\n",
       "      <td>Coding is a valuable skill.</td>\n",
       "      <td>La codificación es una habilidad valiosa.</td>\n",
       "    </tr>\n",
       "    <tr>\n",
       "      <th>21</th>\n",
       "      <td>Knowledge is power.</td>\n",
       "      <td>El conocimiento es poder.</td>\n",
       "    </tr>\n",
       "    <tr>\n",
       "      <th>22</th>\n",
       "      <td>Dream big and work hard.</td>\n",
       "      <td>Sueña a lo grande y trabaja duro.</td>\n",
       "    </tr>\n",
       "    <tr>\n",
       "      <th>23</th>\n",
       "      <td>The future is bright.</td>\n",
       "      <td>El futuro es brillante.</td>\n",
       "    </tr>\n",
       "    <tr>\n",
       "      <th>24</th>\n",
       "      <td>Nature is full of wonders.</td>\n",
       "      <td>La naturaleza está llena de maravillas.</td>\n",
       "    </tr>\n",
       "    <tr>\n",
       "      <th>25</th>\n",
       "      <td>Books are a source of wisdom.</td>\n",
       "      <td>Los libros son una fuente de sabiduría.</td>\n",
       "    </tr>\n",
       "    <tr>\n",
       "      <th>26</th>\n",
       "      <td>Music can touch the soul.</td>\n",
       "      <td>La música puede tocar el alma.</td>\n",
       "    </tr>\n",
       "    <tr>\n",
       "      <th>27</th>\n",
       "      <td>The universe is vast and mysterious.</td>\n",
       "      <td>El universo es vasto y misterioso.</td>\n",
       "    </tr>\n",
       "    <tr>\n",
       "      <th>28</th>\n",
       "      <td>Never stop learning.</td>\n",
       "      <td>Nunca dejes de aprender.</td>\n",
       "    </tr>\n",
       "    <tr>\n",
       "      <th>29</th>\n",
       "      <td>Adventure awaits around the corner.</td>\n",
       "      <td>Aventura espera a la vuelta de la esquina.</td>\n",
       "    </tr>\n",
       "    <tr>\n",
       "      <th>30</th>\n",
       "      <td>This is an example text.</td>\n",
       "      <td>Este es un texto de ejemplo.</td>\n",
       "    </tr>\n",
       "    <tr>\n",
       "      <th>31</th>\n",
       "      <td>Machine learning is fascinating.</td>\n",
       "      <td>El aprendizaje automático es fascinante.</td>\n",
       "    </tr>\n",
       "    <tr>\n",
       "      <th>32</th>\n",
       "      <td>Artificial intelligence is changing the world.</td>\n",
       "      <td>La inteligencia artificial está cambiando el m...</td>\n",
       "    </tr>\n",
       "    <tr>\n",
       "      <th>33</th>\n",
       "      <td>The quick brown fox jumps over the lazy dog.</td>\n",
       "      <td>El zorro marrón salta sobre el perro perezoso.</td>\n",
       "    </tr>\n",
       "    <tr>\n",
       "      <th>34</th>\n",
       "      <td>Science and technology go hand in hand.</td>\n",
       "      <td>La ciencia y la tecnología van de la mano.</td>\n",
       "    </tr>\n",
       "    <tr>\n",
       "      <th>35</th>\n",
       "      <td>The Earth is a beautiful planet.</td>\n",
       "      <td>La Tierra es un planeta hermoso.</td>\n",
       "    </tr>\n",
       "    <tr>\n",
       "      <th>36</th>\n",
       "      <td>Learning new things is always fun.</td>\n",
       "      <td>Aprender cosas nuevas siempre es divertido.</td>\n",
       "    </tr>\n",
       "    <tr>\n",
       "      <th>37</th>\n",
       "      <td>Innovation drives progress.</td>\n",
       "      <td>La innovación impulsa el progreso.</td>\n",
       "    </tr>\n",
       "    <tr>\n",
       "      <th>38</th>\n",
       "      <td>Life is full of surprises.</td>\n",
       "      <td>La vida está llena de sorpresas.</td>\n",
       "    </tr>\n",
       "    <tr>\n",
       "      <th>39</th>\n",
       "      <td>The sky is the limit.</td>\n",
       "      <td>El cielo es el límite.</td>\n",
       "    </tr>\n",
       "    <tr>\n",
       "      <th>40</th>\n",
       "      <td>Coding is a valuable skill.</td>\n",
       "      <td>La codificación es una habilidad valiosa.</td>\n",
       "    </tr>\n",
       "    <tr>\n",
       "      <th>41</th>\n",
       "      <td>Knowledge is power.</td>\n",
       "      <td>El conocimiento es poder.</td>\n",
       "    </tr>\n",
       "    <tr>\n",
       "      <th>42</th>\n",
       "      <td>Dream big and work hard.</td>\n",
       "      <td>Sueña a lo grande y trabaja duro.</td>\n",
       "    </tr>\n",
       "    <tr>\n",
       "      <th>43</th>\n",
       "      <td>The future is bright.</td>\n",
       "      <td>El futuro es brillante.</td>\n",
       "    </tr>\n",
       "    <tr>\n",
       "      <th>44</th>\n",
       "      <td>Nature is full of wonders.</td>\n",
       "      <td>La naturaleza está llena de maravillas.</td>\n",
       "    </tr>\n",
       "    <tr>\n",
       "      <th>45</th>\n",
       "      <td>Books are a source of wisdom.</td>\n",
       "      <td>Los libros son una fuente de sabiduría.</td>\n",
       "    </tr>\n",
       "    <tr>\n",
       "      <th>46</th>\n",
       "      <td>Music can touch the soul.</td>\n",
       "      <td>La música puede tocar el alma.</td>\n",
       "    </tr>\n",
       "    <tr>\n",
       "      <th>47</th>\n",
       "      <td>The universe is vast and mysterious.</td>\n",
       "      <td>El universo es vasto y misterioso.</td>\n",
       "    </tr>\n",
       "    <tr>\n",
       "      <th>48</th>\n",
       "      <td>Never stop learning.</td>\n",
       "      <td>Nunca dejes de aprender.</td>\n",
       "    </tr>\n",
       "    <tr>\n",
       "      <th>49</th>\n",
       "      <td>Adventure awaits around the corner.</td>\n",
       "      <td>Aventura espera a la vuelta de la esquina.</td>\n",
       "    </tr>\n",
       "    <tr>\n",
       "      <th>50</th>\n",
       "      <td>Coding is a valuable skill.</td>\n",
       "      <td>La codificación es una habilidad valiosa.</td>\n",
       "    </tr>\n",
       "    <tr>\n",
       "      <th>51</th>\n",
       "      <td>Knowledge is power.</td>\n",
       "      <td>El conocimiento es poder.</td>\n",
       "    </tr>\n",
       "    <tr>\n",
       "      <th>52</th>\n",
       "      <td>Dream big and work hard.</td>\n",
       "      <td>Sueña a lo grande y trabaja duro.</td>\n",
       "    </tr>\n",
       "    <tr>\n",
       "      <th>53</th>\n",
       "      <td>The future is bright.</td>\n",
       "      <td>El futuro es brillante.</td>\n",
       "    </tr>\n",
       "    <tr>\n",
       "      <th>54</th>\n",
       "      <td>Nature is full of wonders.</td>\n",
       "      <td>La naturaleza está llena de maravillas.</td>\n",
       "    </tr>\n",
       "    <tr>\n",
       "      <th>55</th>\n",
       "      <td>Books are a source of wisdom.</td>\n",
       "      <td>Los libros son una fuente de sabiduría.</td>\n",
       "    </tr>\n",
       "    <tr>\n",
       "      <th>56</th>\n",
       "      <td>Music can touch the soul.</td>\n",
       "      <td>La música puede tocar el alma.</td>\n",
       "    </tr>\n",
       "    <tr>\n",
       "      <th>57</th>\n",
       "      <td>The universe is vast and mysterious.</td>\n",
       "      <td>El universo es vasto y misterioso.</td>\n",
       "    </tr>\n",
       "    <tr>\n",
       "      <th>58</th>\n",
       "      <td>Never stop learning.</td>\n",
       "      <td>Nunca dejes de aprender.</td>\n",
       "    </tr>\n",
       "    <tr>\n",
       "      <th>59</th>\n",
       "      <td>Adventure awaits around the corner.</td>\n",
       "      <td>Aventura espera a la vuelta de la esquina.</td>\n",
       "    </tr>\n",
       "  </tbody>\n",
       "</table>\n",
       "</div>"
      ],
      "text/plain": [
       "                                   Texto en Inglés  \\\n",
       "0                         This is an example text.   \n",
       "1                 Machine learning is fascinating.   \n",
       "2   Artificial intelligence is changing the world.   \n",
       "3     The quick brown fox jumps over the lazy dog.   \n",
       "4          Science and technology go hand in hand.   \n",
       "5                 The Earth is a beautiful planet.   \n",
       "6               Learning new things is always fun.   \n",
       "7                      Innovation drives progress.   \n",
       "8                       Life is full of surprises.   \n",
       "9                            The sky is the limit.   \n",
       "10                     Coding is a valuable skill.   \n",
       "11                             Knowledge is power.   \n",
       "12                        Dream big and work hard.   \n",
       "13                           The future is bright.   \n",
       "14                      Nature is full of wonders.   \n",
       "15                   Books are a source of wisdom.   \n",
       "16                       Music can touch the soul.   \n",
       "17            The universe is vast and mysterious.   \n",
       "18                            Never stop learning.   \n",
       "19             Adventure awaits around the corner.   \n",
       "20                     Coding is a valuable skill.   \n",
       "21                             Knowledge is power.   \n",
       "22                        Dream big and work hard.   \n",
       "23                           The future is bright.   \n",
       "24                      Nature is full of wonders.   \n",
       "25                   Books are a source of wisdom.   \n",
       "26                       Music can touch the soul.   \n",
       "27            The universe is vast and mysterious.   \n",
       "28                            Never stop learning.   \n",
       "29             Adventure awaits around the corner.   \n",
       "30                        This is an example text.   \n",
       "31                Machine learning is fascinating.   \n",
       "32  Artificial intelligence is changing the world.   \n",
       "33    The quick brown fox jumps over the lazy dog.   \n",
       "34         Science and technology go hand in hand.   \n",
       "35                The Earth is a beautiful planet.   \n",
       "36              Learning new things is always fun.   \n",
       "37                     Innovation drives progress.   \n",
       "38                      Life is full of surprises.   \n",
       "39                           The sky is the limit.   \n",
       "40                     Coding is a valuable skill.   \n",
       "41                             Knowledge is power.   \n",
       "42                        Dream big and work hard.   \n",
       "43                           The future is bright.   \n",
       "44                      Nature is full of wonders.   \n",
       "45                   Books are a source of wisdom.   \n",
       "46                       Music can touch the soul.   \n",
       "47            The universe is vast and mysterious.   \n",
       "48                            Never stop learning.   \n",
       "49             Adventure awaits around the corner.   \n",
       "50                     Coding is a valuable skill.   \n",
       "51                             Knowledge is power.   \n",
       "52                        Dream big and work hard.   \n",
       "53                           The future is bright.   \n",
       "54                      Nature is full of wonders.   \n",
       "55                   Books are a source of wisdom.   \n",
       "56                       Music can touch the soul.   \n",
       "57            The universe is vast and mysterious.   \n",
       "58                            Never stop learning.   \n",
       "59             Adventure awaits around the corner.   \n",
       "\n",
       "                                                  Esp  \n",
       "0                        Este es un texto de ejemplo.  \n",
       "1            El aprendizaje automático es fascinante.  \n",
       "2   La inteligencia artificial está cambiando el m...  \n",
       "3      El zorro marrón salta sobre el perro perezoso.  \n",
       "4          La ciencia y la tecnología van de la mano.  \n",
       "5                    La Tierra es un planeta hermoso.  \n",
       "6         Aprender cosas nuevas siempre es divertido.  \n",
       "7                  La innovación impulsa el progreso.  \n",
       "8                    La vida está llena de sorpresas.  \n",
       "9                              El cielo es el límite.  \n",
       "10          La codificación es una habilidad valiosa.  \n",
       "11                          El conocimiento es poder.  \n",
       "12                  Sueña a lo grande y trabaja duro.  \n",
       "13                            El futuro es brillante.  \n",
       "14            La naturaleza está llena de maravillas.  \n",
       "15            Los libros son una fuente de sabiduría.  \n",
       "16                     La música puede tocar el alma.  \n",
       "17                 El universo es vasto y misterioso.  \n",
       "18                           Nunca dejes de aprender.  \n",
       "19         Aventura espera a la vuelta de la esquina.  \n",
       "20          La codificación es una habilidad valiosa.  \n",
       "21                          El conocimiento es poder.  \n",
       "22                  Sueña a lo grande y trabaja duro.  \n",
       "23                            El futuro es brillante.  \n",
       "24            La naturaleza está llena de maravillas.  \n",
       "25            Los libros son una fuente de sabiduría.  \n",
       "26                     La música puede tocar el alma.  \n",
       "27                 El universo es vasto y misterioso.  \n",
       "28                           Nunca dejes de aprender.  \n",
       "29         Aventura espera a la vuelta de la esquina.  \n",
       "30                       Este es un texto de ejemplo.  \n",
       "31           El aprendizaje automático es fascinante.  \n",
       "32  La inteligencia artificial está cambiando el m...  \n",
       "33     El zorro marrón salta sobre el perro perezoso.  \n",
       "34         La ciencia y la tecnología van de la mano.  \n",
       "35                   La Tierra es un planeta hermoso.  \n",
       "36        Aprender cosas nuevas siempre es divertido.  \n",
       "37                 La innovación impulsa el progreso.  \n",
       "38                   La vida está llena de sorpresas.  \n",
       "39                             El cielo es el límite.  \n",
       "40          La codificación es una habilidad valiosa.  \n",
       "41                          El conocimiento es poder.  \n",
       "42                  Sueña a lo grande y trabaja duro.  \n",
       "43                            El futuro es brillante.  \n",
       "44            La naturaleza está llena de maravillas.  \n",
       "45            Los libros son una fuente de sabiduría.  \n",
       "46                     La música puede tocar el alma.  \n",
       "47                 El universo es vasto y misterioso.  \n",
       "48                           Nunca dejes de aprender.  \n",
       "49         Aventura espera a la vuelta de la esquina.  \n",
       "50          La codificación es una habilidad valiosa.  \n",
       "51                          El conocimiento es poder.  \n",
       "52                  Sueña a lo grande y trabaja duro.  \n",
       "53                            El futuro es brillante.  \n",
       "54            La naturaleza está llena de maravillas.  \n",
       "55            Los libros son una fuente de sabiduría.  \n",
       "56                     La música puede tocar el alma.  \n",
       "57                 El universo es vasto y misterioso.  \n",
       "58                           Nunca dejes de aprender.  \n",
       "59         Aventura espera a la vuelta de la esquina.  "
      ]
     },
     "execution_count": 19,
     "metadata": {},
     "output_type": "execute_result"
    }
   ],
   "source": [
    "df['Esp'] = df['Texto en Inglés'].apply(lambda texto: pipe(texto)[0]['translation_text'])\n",
    "df"
   ]
  },
  {
   "cell_type": "code",
   "execution_count": 16,
   "id": "ec4f2f83-19fc-4595-a271-a862a2414a34",
   "metadata": {
    "tags": []
   },
   "outputs": [],
   "source": [
    "import jumpcutter"
   ]
  },
  {
   "cell_type": "code",
   "execution_count": 18,
   "id": "69809ce6-2c54-4fda-a8e6-23098d5c06d2",
   "metadata": {
    "tags": []
   },
   "outputs": [
    {
     "ename": "SyntaxError",
     "evalue": "invalid syntax (4147153153.py, line 2)",
     "output_type": "error",
     "traceback": [
      "\u001b[1;36m  Cell \u001b[1;32mIn[18], line 2\u001b[1;36m\u001b[0m\n\u001b[1;33m    jumpcutter --input_file {'Translate.mp4'} --output_file 'output_video.mp4'\u001b[0m\n\u001b[1;37m                            ^\u001b[0m\n\u001b[1;31mSyntaxError\u001b[0m\u001b[1;31m:\u001b[0m invalid syntax\n"
     ]
    }
   ],
   "source": [
    "# The simplest way you can run the program\n",
    "jumpcutter --input_file {'Translate.mp4'} --output_file 'output_video.mp4'"
   ]
  },
  {
   "cell_type": "code",
   "execution_count": 13,
   "id": "8565dc89-00ba-4a28-a381-473534b9a8d2",
   "metadata": {
    "tags": []
   },
   "outputs": [
    {
     "data": {
      "text/plain": [
       "CompletedProcess(args='jumpcutter -i input_file -o output_file', returncode=1)"
      ]
     },
     "execution_count": 13,
     "metadata": {},
     "output_type": "execute_result"
    }
   ],
   "source": [
    "import subprocess\n",
    "\n",
    "input_file = \"Translate.mp4\"\n",
    "output_file = \"C:/Users/Usuario/OneDrive - UNICAN - Estudiantes/YOUTUBE/19. Translate Hugging/oo.mp4\"\n",
    "\n",
    "# Ejecutar jumpcutter desde el cuaderno\n",
    "command = f\"jumpcutter -i input_file -o output_file\"\n",
    "subprocess.run(command)"
   ]
  },
  {
   "cell_type": "code",
   "execution_count": 19,
   "id": "7f8dfaba-dee4-40e4-ad9b-5bea4f04789a",
   "metadata": {
    "tags": []
   },
   "outputs": [
    {
     "data": {
      "text/plain": [
       "<module 'subprocess' from 'C:\\\\Users\\\\Usuario\\\\anaconda3\\\\Lib\\\\subprocess.py'>"
      ]
     },
     "execution_count": 19,
     "metadata": {},
     "output_type": "execute_result"
    }
   ],
   "source": [
    "subprocess"
   ]
  },
  {
   "cell_type": "code",
   "execution_count": 9,
   "id": "bdabc4c4-4231-4f9c-a20c-436806d7c84a",
   "metadata": {
    "tags": []
   },
   "outputs": [
    {
     "name": "stdout",
     "output_type": "stream",
     "text": [
      "El archivo de salida se encuentra en: C:\\Users\\Usuario\\OneDrive - UNICAN - Estudiantes\\YOUTUBE\\19. Translate Hugging\\output_video.mp4\n"
     ]
    }
   ],
   "source": [
    "import os\n",
    "\n",
    "# Obtiene el directorio de trabajo actual\n",
    "current_directory = os.getcwd()\n",
    "\n",
    "# Muestra la ubicación del archivo de salida\n",
    "output_file = \"output_video.mp4\"  # Asegúrate de que coincida con el nombre que usaste en la ejecución de jumpcutter\n",
    "output_path = os.path.join(current_directory, output_file)\n",
    "print(f\"El archivo de salida se encuentra en: {output_path}\")"
   ]
  },
  {
   "cell_type": "code",
   "execution_count": 20,
   "id": "de1a5ed5-e2ea-4097-a6f4-bd83d2c64bf3",
   "metadata": {
    "tags": []
   },
   "outputs": [
    {
     "ename": "ModuleNotFoundError",
     "evalue": "No module named 'pyjumpcutter'",
     "output_type": "error",
     "traceback": [
      "\u001b[1;31m---------------------------------------------------------------------------\u001b[0m",
      "\u001b[1;31mModuleNotFoundError\u001b[0m                       Traceback (most recent call last)",
      "Cell \u001b[1;32mIn[20], line 1\u001b[0m\n\u001b[1;32m----> 1\u001b[0m \u001b[38;5;28;01mfrom\u001b[39;00m \u001b[38;5;21;01mpyjumpcutter\u001b[39;00m \u001b[38;5;28;01mimport\u001b[39;00m PyJumpCutter\n",
      "\u001b[1;31mModuleNotFoundError\u001b[0m: No module named 'pyjumpcutter'"
     ]
    }
   ],
   "source": [
    "from pyjumpcutter import PyJumpCutter"
   ]
  },
  {
   "cell_type": "code",
   "execution_count": 24,
   "id": "3631b01b-23f4-4c21-9a5a-66e9b874d902",
   "metadata": {
    "tags": []
   },
   "outputs": [
    {
     "ename": "ModuleNotFoundError",
     "evalue": "No module named 'audiotsm'",
     "output_type": "error",
     "traceback": [
      "\u001b[1;31m---------------------------------------------------------------------------\u001b[0m",
      "\u001b[1;31mModuleNotFoundError\u001b[0m                       Traceback (most recent call last)",
      "File \u001b[1;32m~\\OneDrive - UNICAN - Estudiantes\\YOUTUBE\\19. Translate Hugging\\jumpcutter.py:4\u001b[0m\n\u001b[0;32m      2\u001b[0m \u001b[38;5;28;01mfrom\u001b[39;00m \u001b[38;5;21;01mPIL\u001b[39;00m \u001b[38;5;28;01mimport\u001b[39;00m Image\n\u001b[0;32m      3\u001b[0m \u001b[38;5;28;01mimport\u001b[39;00m \u001b[38;5;21;01msubprocess\u001b[39;00m\n\u001b[1;32m----> 4\u001b[0m \u001b[38;5;28;01mfrom\u001b[39;00m \u001b[38;5;21;01maudiotsm\u001b[39;00m \u001b[38;5;28;01mimport\u001b[39;00m phasevocoder\n\u001b[0;32m      5\u001b[0m \u001b[38;5;28;01mfrom\u001b[39;00m \u001b[38;5;21;01maudiotsm\u001b[39;00m\u001b[38;5;21;01m.\u001b[39;00m\u001b[38;5;21;01mio\u001b[39;00m\u001b[38;5;21;01m.\u001b[39;00m\u001b[38;5;21;01mwav\u001b[39;00m \u001b[38;5;28;01mimport\u001b[39;00m WavReader, WavWriter\n\u001b[0;32m      6\u001b[0m \u001b[38;5;28;01mfrom\u001b[39;00m \u001b[38;5;21;01mscipy\u001b[39;00m\u001b[38;5;21;01m.\u001b[39;00m\u001b[38;5;21;01mio\u001b[39;00m \u001b[38;5;28;01mimport\u001b[39;00m wavfile\n",
      "\u001b[1;31mModuleNotFoundError\u001b[0m: No module named 'audiotsm'"
     ]
    }
   ],
   "source": [
    "%run jumpcutter.py"
   ]
  },
  {
   "cell_type": "code",
   "execution_count": 25,
   "id": "1a054b66-424f-4a9d-8b47-2234d6b99c73",
   "metadata": {
    "tags": []
   },
   "outputs": [
    {
     "name": "stdout",
     "output_type": "stream",
     "text": [
      "Collecting audiotsm\n",
      "  Downloading audiotsm-0.1.2-py2.py3-none-any.whl (32 kB)\n",
      "Requirement already satisfied: numpy in c:\\users\\usuario\\anaconda3\\lib\\site-packages (from audiotsm) (1.24.3)\n",
      "Installing collected packages: audiotsm\n",
      "Successfully installed audiotsm-0.1.2\n"
     ]
    }
   ],
   "source": [
    "!pip install audiotsm"
   ]
  },
  {
   "cell_type": "code",
   "execution_count": 26,
   "id": "c704460c-c71b-42c0-8b04-04e342ad6a8c",
   "metadata": {
    "tags": []
   },
   "outputs": [
    {
     "name": "stdout",
     "output_type": "stream",
     "text": [
      "Collecting pytube\n",
      "  Downloading pytube-15.0.0-py3-none-any.whl (57 kB)\n",
      "     ---------------------------------------- 0.0/57.6 kB ? eta -:--:--\n",
      "     -------------------- ----------------- 30.7/57.6 kB 435.7 kB/s eta 0:00:01\n",
      "     -------------------------------------- 57.6/57.6 kB 751.6 kB/s eta 0:00:00\n",
      "Installing collected packages: pytube\n",
      "Successfully installed pytube-15.0.0\n"
     ]
    }
   ],
   "source": [
    "!pip install pytube"
   ]
  },
  {
   "cell_type": "code",
   "execution_count": null,
   "id": "dc3c2ee0-837f-4df9-9c7b-bd61eebe6c41",
   "metadata": {},
   "outputs": [],
   "source": []
  }
 ],
 "metadata": {
  "kernelspec": {
   "display_name": "Python 3 (ipykernel)",
   "language": "python",
   "name": "python3"
  },
  "language_info": {
   "codemirror_mode": {
    "name": "ipython",
    "version": 3
   },
   "file_extension": ".py",
   "mimetype": "text/x-python",
   "name": "python",
   "nbconvert_exporter": "python",
   "pygments_lexer": "ipython3",
   "version": "3.11.5"
  },
  "toc-autonumbering": true
 },
 "nbformat": 4,
 "nbformat_minor": 5
}
